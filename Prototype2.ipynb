{
 "cells": [
  {
   "cell_type": "code",
   "execution_count": 46,
   "id": "agreed-kennedy",
   "metadata": {},
   "outputs": [],
   "source": [
    "import numpy as np\n",
    "import tensorflow.keras as keras\n",
    "import matplotlib.pyplot as plt\n",
    "import nltk\n",
    "import random\n",
    "%matplotlib inline\n",
    "#Additional modules???"
   ]
  },
  {
   "cell_type": "code",
   "execution_count": 47,
   "id": "designing-parts",
   "metadata": {},
   "outputs": [
    {
     "name": "stderr",
     "output_type": "stream",
     "text": [
      "[nltk_data] Downloading package brown to /home/tms8p/nltk_data...\n",
      "[nltk_data]   Package brown is already up-to-date!\n",
      "[nltk_data] Downloading package treebank to /home/tms8p/nltk_data...\n",
      "[nltk_data]   Package treebank is already up-to-date!\n",
      "[nltk_data] Downloading package genesis to /home/tms8p/nltk_data...\n",
      "[nltk_data]   Package genesis is already up-to-date!\n",
      "[nltk_data] Downloading package universal_tagset to\n",
      "[nltk_data]     /home/tms8p/nltk_data...\n",
      "[nltk_data]   Package universal_tagset is already up-to-date!\n"
     ]
    },
    {
     "data": {
      "text/plain": [
       "True"
      ]
     },
     "execution_count": 47,
     "metadata": {},
     "output_type": "execute_result"
    }
   ],
   "source": [
    "# Download Corpus\n",
    "nltk.download('brown')\n",
    "nltk.download('treebank')\n",
    "nltk.download('genesis')   #Test data set???\n",
    "nltk.download('universal_tagset')"
   ]
  },
  {
   "cell_type": "code",
   "execution_count": 48,
   "id": "located-quebec",
   "metadata": {},
   "outputs": [],
   "source": [
    "from nltk.corpus import brown\n",
    "from nltk.corpus import treebank\n",
    "from nltk.corpus import genesis   #Test data set???\n",
    "# obtain tagged sentence(s)"
   ]
  },
  {
   "cell_type": "code",
   "execution_count": 49,
   "id": "hispanic-potato",
   "metadata": {},
   "outputs": [],
   "source": [
    "treebank_corpus = treebank.tagged_sents(tagset='universal')\n",
    "brown_corpus = brown.tagged_sents(tagset='universal')\n",
    "#genesis_corpus = genesis.tagged_sents(tagset='universal') #Test data set not working"
   ]
  },
  {
   "cell_type": "code",
   "execution_count": 51,
   "id": "technical-insurance",
   "metadata": {},
   "outputs": [
    {
     "name": "stdout",
     "output_type": "stream",
     "text": [
      "[('``', '.'), ('It', 'PRON'), (\"doesn't\", 'VERB'), ('seem', 'VERB'), ('quite', 'ADV'), ('right', 'ADJ'), (',', '.'), ('telling', 'VERB'), ('her', 'PRON'), ('a', 'DET'), ('thing', 'NOUN'), ('like', 'ADP'), ('that', 'DET'), ('.', '.')]\n"
     ]
    }
   ],
   "source": [
    "# Split into training data ie validation and training\n",
    "print(random.choice(brown_corpus))\n",
    "\n",
    "tags = set([\n",
    "    tag for sentence in brown.tagged_sents() \n",
    "    for _, tag in sentence\n",
    "])\n",
    "# X_training = sentences\n",
    "# Y_training = POS tags"
   ]
  },
  {
   "cell_type": "code",
   "execution_count": 5,
   "id": "beneficial-frequency",
   "metadata": {},
   "outputs": [],
   "source": [
    "# compute features of a sentence???"
   ]
  },
  {
   "cell_type": "code",
   "execution_count": 6,
   "id": "packed-sector",
   "metadata": {},
   "outputs": [],
   "source": [
    "# Remove tags from sentences and recycle them for training data?"
   ]
  },
  {
   "cell_type": "code",
   "execution_count": 7,
   "id": "alternate-baghdad",
   "metadata": {},
   "outputs": [],
   "source": [
    "# Form training data sets x, y ..."
   ]
  },
  {
   "cell_type": "code",
   "execution_count": 8,
   "id": "dependent-pacific",
   "metadata": {},
   "outputs": [],
   "source": [
    "# create classes to classify words???"
   ]
  },
  {
   "cell_type": "code",
   "execution_count": 10,
   "id": "informational-provincial",
   "metadata": {},
   "outputs": [],
   "source": [
    "# Our model here\n",
    "#{\n",
    "#       What goes here???\n",
    "#       Convolution Neural Network\n",
    "#\n",
    "#       Multilayer, at least one hidden layer    \n",
    "#       Activation function TBD\n",
    "#       Output Activation TBD\n",
    "#       compile model with categorical_cross_entropy, \n",
    "#       optimizer and metrics TBD\n",
    "#}\n",
    "model = keras.Sequential()\n",
    "\n",
    "model.add(keras.layers.Conv2D(64, kernel_size=(8, 8),\n",
    " activation='relu',\n",
    " input_shape=[x_train.shape[1],\n",
    " x_train.shape[2],\n",
    " x_train.shape[3]]))\n",
    "model.add(keras.layers.Conv2D(128, (8, 8), activation='relu'))\n",
    "model.add(keras.layers.MaxPooling2D(pool_size=(2, 2)))\n",
    "model.add(keras.layers.Dropout(0.25))\n",
    "model.add(keras.layers.Flatten())\n",
    "model.add(keras.layers.Dense(128, activation='relu'))\n",
    "model.add(keras.layers.Dropout(0.5))\n",
    "model.add(keras.layers.Dense(y_train.shape[1], activation='softmax'))\n",
    "model.compile(loss=keras.losses.CategoricalCrossentropy(),\n",
    " optimizer=keras.optimizers.Adam(),\n",
    " metrics=[keras.metrics.CategoricalAccuracy()])\n"
   ]
  },
  {
   "cell_type": "code",
   "execution_count": 11,
   "id": "electoral-nightmare",
   "metadata": {},
   "outputs": [],
   "source": [
    "# Model training here\n",
    "# Wrapper for model???"
   ]
  },
  {
   "cell_type": "code",
   "execution_count": 12,
   "id": "alternative-senator",
   "metadata": {},
   "outputs": [],
   "source": [
    "# Make graph or display history of training here"
   ]
  },
  {
   "cell_type": "code",
   "execution_count": 13,
   "id": "informative-skating",
   "metadata": {},
   "outputs": [],
   "source": [
    "# Evaluate performance"
   ]
  },
  {
   "cell_type": "code",
   "execution_count": null,
   "id": "characteristic-center",
   "metadata": {},
   "outputs": [],
   "source": []
  }
 ],
 "metadata": {
  "kernelspec": {
   "display_name": "Python 3",
   "language": "python",
   "name": "python3"
  },
  "language_info": {
   "codemirror_mode": {
    "name": "ipython",
    "version": 3
   },
   "file_extension": ".py",
   "mimetype": "text/x-python",
   "name": "python",
   "nbconvert_exporter": "python",
   "pygments_lexer": "ipython3",
   "version": "3.8.6"
  }
 },
 "nbformat": 4,
 "nbformat_minor": 5
}
