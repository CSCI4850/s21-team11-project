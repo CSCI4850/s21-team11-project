{
 "cells": [
  {
   "cell_type": "code",
   "execution_count": 1,
   "metadata": {},
   "outputs": [],
   "source": [
    "import nltk\n",
    "from nltk.corpus import brown\n",
    "from nltk.corpus import treebank\n",
    "from nltk.corpus import conll2000\n",
    "import numpy as np\n",
    "import tensorflow as tf\n",
    "import tensorflow.keras as keras\n",
    "from tensorflow.keras import backend as K\n",
    "from keras.models import Model\n",
    "from keras.preprocessing.text import Tokenizer\n",
    "from keras.preprocessing.sequence import pad_sequences\n",
    "from keras.utils.np_utils import to_categorical\n",
    "from gensim.models import KeyedVectors\n",
    "import matplotlib.pyplot as plt\n",
    "%matplotlib inline"
   ]
  },
  {
   "cell_type": "code",
   "execution_count": 2,
   "metadata": {},
   "outputs": [
    {
     "name": "stderr",
     "output_type": "stream",
     "text": [
      "[nltk_data] Downloading package brown to /home/tms8p/nltk_data...\n",
      "[nltk_data]   Package brown is already up-to-date!\n",
      "[nltk_data] Downloading package treebank to /home/tms8p/nltk_data...\n",
      "[nltk_data]   Package treebank is already up-to-date!\n",
      "[nltk_data] Downloading package conll2000 to /home/tms8p/nltk_data...\n",
      "[nltk_data]   Package conll2000 is already up-to-date!\n",
      "[nltk_data] Downloading package universal_tagset to\n",
      "[nltk_data]     /home/tms8p/nltk_data...\n",
      "[nltk_data]   Package universal_tagset is already up-to-date!\n"
     ]
    },
    {
     "data": {
      "text/plain": [
       "True"
      ]
     },
     "execution_count": 2,
     "metadata": {},
     "output_type": "execute_result"
    }
   ],
   "source": [
    "nltk.download('brown')\n",
    "nltk.download('treebank')\n",
    "nltk.download('conll2000')\n",
    "nltk.download('universal_tagset')"
   ]
  },
  {
   "cell_type": "markdown",
   "metadata": {},
   "source": [
    "___________________________\n",
    "### Prepare Dataset"
   ]
  },
  {
   "cell_type": "code",
   "execution_count": 3,
   "metadata": {},
   "outputs": [],
   "source": [
    "# load POS tagged corpora from NLTK\n",
    "treebank_corpus = treebank.tagged_sents(tagset='universal')\n",
    "brown_corpus = brown.tagged_sents(tagset='universal')\n",
    "conll_corpus = conll2000.tagged_sents(tagset='universal')\n",
    "\n",
    "# Merge corpora\n",
    "tagged_sentences = treebank_corpus + brown_corpus + conll_corpus"
   ]
  },
  {
   "cell_type": "code",
   "execution_count": 4,
   "metadata": {},
   "outputs": [],
   "source": [
    "X = [] # store input sequence\n",
    "Y = [] # store output tags\n",
    "for sentence in tagged_sentences:\n",
    "    X_sentence = []\n",
    "    Y_sentence = []\n",
    "    for pair in sentence: \n",
    "        X_sentence.append(pair[0]) # the word\n",
    "        Y_sentence.append(pair[1]) # the tag\n",
    " \n",
    "    X.append(X_sentence)\n",
    "    Y.append(Y_sentence)"
   ]
  },
  {
   "cell_type": "code",
   "execution_count": 5,
   "metadata": {},
   "outputs": [],
   "source": [
    "num_words = len(set([word.lower() for sentence in X for word in sentence]))\n",
    "num_tags = len(set([word.lower() for sentence in Y for word in sentence]))"
   ]
  },
  {
   "cell_type": "markdown",
   "metadata": {},
   "source": [
    "______________________________\n",
    "### Tokenize and Pad"
   ]
  },
  {
   "cell_type": "code",
   "execution_count": 6,
   "metadata": {},
   "outputs": [],
   "source": [
    "# encode X\n",
    "word_tokenizer = Tokenizer()              # instantiate tokeniser\n",
    "word_tokenizer.fit_on_texts(X)            # fit tokeniser on data\n",
    "\n",
    "# use the tokeniser to encode input sequence\n",
    "X_encoded = word_tokenizer.texts_to_sequences(X)  \n",
    "\n",
    "# encode Y\n",
    "tag_tokenizer = Tokenizer()\n",
    "tag_tokenizer.fit_on_texts(Y)\n",
    "Y_encoded = tag_tokenizer.texts_to_sequences(Y)"
   ]
  },
  {
   "cell_type": "code",
   "execution_count": 7,
   "metadata": {},
   "outputs": [],
   "source": [
    "# sequences greater than 100 in length will be truncated\n",
    "MAX_SEQ_LENGTH = 100\n",
    "X_padded = pad_sequences(X_encoded, maxlen=MAX_SEQ_LENGTH, padding='pre', truncating='post')\n",
    "Y_padded = pad_sequences(Y_encoded, maxlen=MAX_SEQ_LENGTH, padding='pre', truncating='post')"
   ]
  },
  {
   "cell_type": "markdown",
   "metadata": {},
   "source": [
    "________________________\n",
    "### Split Data into Training and Testing Data"
   ]
  },
  {
   "cell_type": "code",
   "execution_count": 8,
   "metadata": {},
   "outputs": [],
   "source": [
    "from sklearn.model_selection import train_test_split\n",
    "\n",
    "# split data into training and testing sets\n",
    "X_train, X_test, Y_train, Y_test = train_test_split(X_padded, Y_padded, test_size=0.25, random_state=4)"
   ]
  },
  {
   "cell_type": "markdown",
   "metadata": {},
   "source": [
    "______________________________\n",
    "### Create word embedding matrix with Word2Vec Data "
   ]
  },
  {
   "cell_type": "code",
   "execution_count": 9,
   "metadata": {},
   "outputs": [],
   "source": [
    "import gensim.downloader\n",
    "glove_vectors = gensim.downloader.load('word2vec-google-news-300')"
   ]
  },
  {
   "cell_type": "code",
   "execution_count": 10,
   "metadata": {},
   "outputs": [],
   "source": [
    "from gensim.models import KeyedVectors\n",
    "\n",
    "# word2vec\n",
    "path = \"gensim-data/word2vec-google-news-300/word2vec-google-news-300.gz\"\n",
    "\n",
    "# load word2vec using the following function present in the gensim library\n",
    "word2vec = KeyedVectors.load_word2vec_format(path, binary=True)\n",
    "\n",
    "# assign word vectors from word2vec model\n",
    "# each word in word2vec model is represented using a 300 dimensional vector\n",
    "EMBEDDING_SIZE = 300\n",
    "VOCABULARY_SIZE = len(word_tokenizer.word_index) + 1\n",
    "\n",
    "# create an empty embedding matix\n",
    "embedding_weights = np.zeros((VOCABULARY_SIZE, EMBEDDING_SIZE))\n",
    "\n",
    "# create a word to index dictionary mapping\n",
    "word2id = word_tokenizer.word_index\n",
    "\n",
    "# copy vectors from word2vec model to the words present in corpus\n",
    "for word, index in word2id.items():\n",
    "    try:\n",
    "        embedding_weights[index, :] = word2vec[word]\n",
    "    except KeyError:\n",
    "        pass"
   ]
  },
  {
   "cell_type": "markdown",
   "metadata": {},
   "source": [
    "________________________\n",
    "### One-hot encode Y"
   ]
  },
  {
   "cell_type": "code",
   "execution_count": 11,
   "metadata": {},
   "outputs": [],
   "source": [
    "# use Keras' to_categorical function to one-hot encode Y\n",
    "Y_train = to_categorical(Y_train)\n",
    "Y_test = to_categorical(Y_test)"
   ]
  },
  {
   "cell_type": "markdown",
   "metadata": {},
   "source": [
    "_______________________________\n",
    "### Data Shapes"
   ]
  },
  {
   "cell_type": "code",
   "execution_count": 12,
   "metadata": {},
   "outputs": [
    {
     "name": "stdout",
     "output_type": "stream",
     "text": [
      "Training shapes:\n",
      "\n",
      "(54151, 100)\n",
      "(54151, 100, 13)\n",
      "\n",
      "Testing Shapes:\n",
      "\n",
      "(18051, 100)\n",
      "(18051, 100, 13)\n"
     ]
    }
   ],
   "source": [
    "print(\"Training shapes:\\n\")\n",
    "print(X_train.shape)\n",
    "print(Y_train.shape)\n",
    "print(\"\\nTesting Shapes:\\n\")\n",
    "print(X_test.shape)\n",
    "print(Y_test.shape)"
   ]
  },
  {
   "cell_type": "markdown",
   "metadata": {},
   "source": [
    "___________________________\n",
    "### Ignore accuracy of paddings"
   ]
  },
  {
   "cell_type": "code",
   "execution_count": 13,
   "metadata": {},
   "outputs": [],
   "source": [
    "def accuracy_masked_class(to_ignore=0):\n",
    "    def accuracy_masked(y_true, y_pred):\n",
    "        y_true_class = K.argmax(y_true, axis=-1)\n",
    "        y_pred_class = K.argmax(y_pred, axis=-1)\n",
    " \n",
    "        ignore_mask = K.cast(K.not_equal(y_true_class, to_ignore), 'int32')\n",
    "        matches = K.cast(K.equal(y_true_class, y_pred_class), 'int32') * ignore_mask\n",
    "        accuracy = K.sum(matches) / K.maximum(K.sum(ignore_mask), 1)\n",
    "        return accuracy\n",
    "    return accuracy_masked"
   ]
  },
  {
   "cell_type": "markdown",
   "metadata": {},
   "source": [
    "_________________________________\n",
    "### Build and Train Model"
   ]
  },
  {
   "cell_type": "code",
   "execution_count": 42,
   "metadata": {},
   "outputs": [
    {
     "name": "stdout",
     "output_type": "stream",
     "text": [
      "Model: \"sequential_3\"\n",
      "_________________________________________________________________\n",
      "Layer (type)                 Output Shape              Param #   \n",
      "=================================================================\n",
      "embedding_3 (Embedding)      (None, 100, 300)          17834700  \n",
      "_________________________________________________________________\n",
      "conv1d_3 (Conv1D)            (None, 100, 128)          76928     \n",
      "_________________________________________________________________\n",
      "max_pooling1d_3 (MaxPooling1 (None, 100, 128)          0         \n",
      "_________________________________________________________________\n",
      "dropout_7 (Dropout)          (None, 100, 128)          0         \n",
      "_________________________________________________________________\n",
      "dense_8 (Dense)              (None, 100, 128)          16512     \n",
      "_________________________________________________________________\n",
      "dropout_8 (Dropout)          (None, 100, 128)          0         \n",
      "_________________________________________________________________\n",
      "dense_9 (Dense)              (None, 100, 13)           1677      \n",
      "_________________________________________________________________\n",
      "dense_10 (Dense)             (None, 100, 128)          1792      \n",
      "_________________________________________________________________\n",
      "dropout_9 (Dropout)          (None, 100, 128)          0         \n",
      "_________________________________________________________________\n",
      "dense_11 (Dense)             (None, 100, 13)           1677      \n",
      "_________________________________________________________________\n",
      "dense_12 (Dense)             (None, 100, 128)          1792      \n",
      "_________________________________________________________________\n",
      "dropout_10 (Dropout)         (None, 100, 128)          0         \n",
      "_________________________________________________________________\n",
      "dense_13 (Dense)             (None, 100, 13)           1677      \n",
      "=================================================================\n",
      "Total params: 17,936,755\n",
      "Trainable params: 17,936,755\n",
      "Non-trainable params: 0\n",
      "_________________________________________________________________\n"
     ]
    }
   ],
   "source": [
    "from keras.models import Sequential\n",
    "from keras import layers\n",
    "\n",
    "model = Sequential()\n",
    "model.add(layers.Embedding(input_dim   = VOCABULARY_SIZE,         # vocabulary size - number of unique words in data\n",
    "                         output_dim    = EMBEDDING_SIZE,          # length of vector with which each word is represented\n",
    "                         input_length  = MAX_SEQ_LENGTH,          # length of input sequence\n",
    "                         weights       = [embedding_weights],     # word embedding matrix\n",
    "                         trainable     = True                     # True - update embeddings_weight matrix\n",
    "))\n",
    "model.add(layers.Conv1D(128, kernel_size=2, padding='same', activation='relu'))\n",
    "model.add(layers.MaxPooling1D(pool_size=1, strides=1, padding='same'))\n",
    "model.add(keras.layers.Dropout(0.1))\n",
    "model.add(keras.layers.Dense(128, activation='relu'))\n",
    "model.add(keras.layers.Dropout(0.3))\n",
    "model.add(keras.layers.Dense(13, activation='softmax'))\n",
    "model.add(keras.layers.Dense(128, activation='relu'))\n",
    "model.add(keras.layers.Dropout(0.3))\n",
    "model.add(keras.layers.Dense(13, activation='softmax'))\n",
    "model.add(keras.layers.Dense(128, activation='relu'))\n",
    "model.add(keras.layers.Dropout(0.3))\n",
    "model.add(keras.layers.Dense(13, activation='softmax'))\n",
    "model.compile(loss=keras.losses.CategoricalCrossentropy(),\n",
    " optimizer=keras.optimizers.Adam(),\n",
    " metrics=[keras.metrics.CategoricalAccuracy(), accuracy_masked_class(0)])\n",
    "model.summary()"
   ]
  },
  {
   "cell_type": "code",
   "execution_count": 47,
   "metadata": {},
   "outputs": [
    {
     "name": "stdout",
     "output_type": "stream",
     "text": [
      "Epoch 1/10\n",
      "212/212 [==============================] - 87s 408ms/step - loss: 0.0138 - categorical_accuracy: 0.9961 - accuracy_masked: 0.9814 - val_loss: 0.0306 - val_categorical_accuracy: 0.9927 - val_accuracy_masked: 0.9650\n",
      "Epoch 2/10\n",
      "212/212 [==============================] - 168s 793ms/step - loss: 0.0134 - categorical_accuracy: 0.9961 - accuracy_masked: 0.9817 - val_loss: 0.0315 - val_categorical_accuracy: 0.9926 - val_accuracy_masked: 0.9647\n",
      "Epoch 3/10\n",
      "212/212 [==============================] - 204s 960ms/step - loss: 0.0131 - categorical_accuracy: 0.9962 - accuracy_masked: 0.9820 - val_loss: 0.0304 - val_categorical_accuracy: 0.9924 - val_accuracy_masked: 0.9640\n",
      "Epoch 4/10\n",
      "212/212 [==============================] - 207s 976ms/step - loss: 0.0128 - categorical_accuracy: 0.9963 - accuracy_masked: 0.9823 - val_loss: 0.0305 - val_categorical_accuracy: 0.9924 - val_accuracy_masked: 0.9638\n",
      "Epoch 5/10\n",
      "212/212 [==============================] - 200s 944ms/step - loss: 0.0125 - categorical_accuracy: 0.9963 - accuracy_masked: 0.9823 - val_loss: 0.0310 - val_categorical_accuracy: 0.9926 - val_accuracy_masked: 0.9646\n",
      "Epoch 6/10\n",
      "212/212 [==============================] - 114s 536ms/step - loss: 0.0123 - categorical_accuracy: 0.9963 - accuracy_masked: 0.9825 - val_loss: 0.0315 - val_categorical_accuracy: 0.9925 - val_accuracy_masked: 0.9641\n",
      "Epoch 7/10\n",
      "212/212 [==============================] - 94s 443ms/step - loss: 0.0120 - categorical_accuracy: 0.9964 - accuracy_masked: 0.9827 - val_loss: 0.0315 - val_categorical_accuracy: 0.9926 - val_accuracy_masked: 0.9646\n",
      "Epoch 8/10\n",
      "212/212 [==============================] - 92s 435ms/step - loss: 0.0117 - categorical_accuracy: 0.9964 - accuracy_masked: 0.9830 - val_loss: 0.0317 - val_categorical_accuracy: 0.9925 - val_accuracy_masked: 0.9642\n",
      "Epoch 9/10\n",
      "212/212 [==============================] - 92s 432ms/step - loss: 0.0116 - categorical_accuracy: 0.9964 - accuracy_masked: 0.9830 - val_loss: 0.0316 - val_categorical_accuracy: 0.9925 - val_accuracy_masked: 0.9644\n",
      "Epoch 10/10\n",
      "212/212 [==============================] - 92s 435ms/step - loss: 0.0114 - categorical_accuracy: 0.9965 - accuracy_masked: 0.9831 - val_loss: 0.0315 - val_categorical_accuracy: 0.9926 - val_accuracy_masked: 0.9647\n"
     ]
    }
   ],
   "source": [
    "history = model.fit(X_train, Y_train,\n",
    "                    epochs=20,\n",
    "                    validation_data=(X_test, Y_test),\n",
    "                    batch_size=256)"
   ]
  },
  {
   "cell_type": "markdown",
   "metadata": {},
   "source": [
    "_____________________________________________\n",
    "### Testing Original Sentences"
   ]
  },
  {
   "cell_type": "code",
   "execution_count": 48,
   "metadata": {},
   "outputs": [
    {
     "data": {
      "text/plain": [
       "Text(0.5, 1.0, 'model loss')"
      ]
     },
     "execution_count": 48,
     "metadata": {},
     "output_type": "execute_result"
    },
    {
     "data": {
      "image/png": "[encoded data removed]",
      "text/plain": [
       "<Figure size 432x288 with 2 Axes>"
      ]
     },
     "metadata": {
      "needs_background": "light"
     },
     "output_type": "display_data"
    }
   ],
   "source": [
    "plt.figure(1)\n",
    "\n",
    "# summarize history for accuracy\n",
    "\n",
    "plt.subplot(211)\n",
    "plt.plot(history.history['categorical_accuracy'])\n",
    "plt.plot(history.history['val_categorical_accuracy'])\n",
    "plt.title('model accuracy')\n",
    "plt.ylabel('accuracy')\n",
    "plt.xlabel('epoch')\n",
    "plt.legend(['train', 'val'], loc='upper left')\n",
    "\n",
    "# summarize history for loss\n",
    "\n",
    "plt.subplot(212)\n",
    "plt.plot(history.history['loss'])\n",
    "plt.plot(history.history['val_loss'])\n",
    "plt.title('model loss') "
   ]
  },
  {
   "cell_type": "code",
   "execution_count": 49,
   "metadata": {},
   "outputs": [
    {
     "name": "stdout",
     "output_type": "stream",
     "text": [
      "Test loss: 0.00903103593736887\n",
      "Test accuracy: 0.9970415830612183\n"
     ]
    }
   ],
   "source": [
    "score = model.evaluate(X_train, Y_train, verbose=0)\n",
    "print('Test loss:', score[0])\n",
    "print('Test accuracy:', score[1])"
   ]
  },
  {
   "cell_type": "code",
   "execution_count": 46,
   "metadata": {},
   "outputs": [
    {
     "name": "stdout",
     "output_type": "stream",
     "text": [
      "X= [['This', 'is', 'a', 'simple', 'sentence', '.']]\n",
      "Predicted= ['det verb det adj noun .']\n"
     ]
    }
   ],
   "source": [
    "from nltk.tokenize import word_tokenize\n",
    "\n",
    "def output_prediction(text):\n",
    "    # Pre-process data like we did for training.\n",
    "    text = [word_tokenize(text)]\n",
    "    text_encoded = word_tokenizer.texts_to_sequences(text) \n",
    "    text_padded = pad_sequences(text_encoded, maxlen=MAX_SEQ_LENGTH, padding='pre', truncating='post')\n",
    "    \n",
    "    # Make a prediction\n",
    "    ynew = np.argmax(model.predict(text_padded), axis=-1)\n",
    "    prediction = ynew[0]\n",
    "    \n",
    "    # Trim leading zeros\n",
    "    prediction = np.trim_zeros(prediction)\n",
    "        \n",
    "    # Decode prediction\n",
    "    decoded = tag_tokenizer.sequences_to_texts([prediction])\n",
    "    \n",
    "    # show the inputs and predicted outputs\n",
    "    print(\"X= %s\\nPredicted= %s\" % (text, decoded))\n",
    "    \n",
    "text = \"This is a simple sentence.\"\n",
    "output_prediction(text)"
   ]
  },
  {
   "cell_type": "code",
   "execution_count": null,
   "metadata": {},
   "outputs": [],
   "source": []
  }
 ],
 "metadata": {
  "kernelspec": {
   "display_name": "Python 3",
   "language": "python",
   "name": "python3"
  },
  "language_info": {
   "codemirror_mode": {
    "name": "ipython",
    "version": 3
   },
   "file_extension": ".py",
   "mimetype": "text/x-python",
   "name": "python",
   "nbconvert_exporter": "python",
   "pygments_lexer": "ipython3",
   "version": "3.8.6"
  }
 },
 "nbformat": 4,
 "nbformat_minor": 4
}
