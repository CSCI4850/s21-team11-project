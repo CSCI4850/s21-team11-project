{
 "cells": [
  {
   "cell_type": "markdown",
   "metadata": {},
   "source": [
    "# Convolution Neural Network with Trained Word2Vec Embeddings for Part-Of-Speech Tagging - English"
   ]
  },
  {
   "cell_type": "markdown",
   "metadata": {},
   "source": [
    "________________________________________\n",
    "## Create the Dataset"
   ]
  },
  {
   "cell_type": "code",
   "execution_count": 37,
   "metadata": {},
   "outputs": [
    {
     "name": "stderr",
     "output_type": "stream",
     "text": [
      "[nltk_data] Downloading package brown to /home/bcd3q/nltk_data...\n",
      "[nltk_data]   Package brown is already up-to-date!\n",
      "[nltk_data] Downloading package treebank to /home/bcd3q/nltk_data...\n",
      "[nltk_data]   Package treebank is already up-to-date!\n",
      "[nltk_data] Downloading package conll2000 to /home/bcd3q/nltk_data...\n",
      "[nltk_data]   Unzipping corpora/conll2000.zip.\n",
      "[nltk_data] Downloading package universal_tagset to\n",
      "[nltk_data]     /home/bcd3q/nltk_data...\n",
      "[nltk_data]   Package universal_tagset is already up-to-date!\n"
     ]
    },
    {
     "data": {
      "text/plain": [
       "True"
      ]
     },
     "execution_count": 37,
     "metadata": {},
     "output_type": "execute_result"
    }
   ],
   "source": [
    "import nltk\n",
    "# Natural Language Toolkit's Brown, Treebank, and Conll2000 Corpora with universal tagset\n",
    "nltk.download('brown')\n",
    "nltk.download('treebank')\n",
    "nltk.download('conll2000')\n",
    "nltk.download('universal_tagset')"
   ]
  },
  {
   "cell_type": "code",
   "execution_count": 38,
   "metadata": {},
   "outputs": [],
   "source": [
    "from nltk.corpus import brown\n",
    "from nltk.corpus import treebank\n",
    "from nltk.corpus import conll2000\n",
    "\n",
    "treebank_corpus = treebank.tagged_sents(tagset='universal')\n",
    "brown_corpus = brown.tagged_sents(tagset='universal')\n",
    "conll_corpus = conll2000.tagged_sents(tagset='universal')\n",
    "\n",
    "# Combine the corpora into a single dataset\n",
    "tagged_sentences = treebank_corpus + brown_corpus + conll_corpus"
   ]
  },
  {
   "cell_type": "code",
   "execution_count": 39,
   "metadata": {},
   "outputs": [],
   "source": [
    "# Split data into lists of sentences and tags\n",
    "\n",
    "X = []\n",
    "Y = []\n",
    "\n",
    "for sentence in tagged_sentences:\n",
    "    X_sentence = []\n",
    "    Y_sentence = []\n",
    "    for pair in sentence: \n",
    "        X_sentence.append(pair[0]) # the word\n",
    "        Y_sentence.append(pair[1]) # the tag\n",
    "    X.append(X_sentence)\n",
    "    Y.append(Y_sentence)"
   ]
  },
  {
   "cell_type": "code",
   "execution_count": 40,
   "metadata": {},
   "outputs": [
    {
     "name": "stdout",
     "output_type": "stream",
     "text": [
      "First Sentence:\n",
      "\n",
      "['Pierre', 'Vinken', ',', '61', 'years', 'old', ',', 'will', 'join', 'the', 'board', 'as', 'a', 'nonexecutive', 'director', 'Nov.', '29', '.']\n",
      "\n",
      "It's Tags:\n",
      "\n",
      "['NOUN', 'NOUN', '.', 'NUM', 'NOUN', 'ADJ', '.', 'VERB', 'VERB', 'DET', 'NOUN', 'ADP', 'DET', 'ADJ', 'NOUN', 'NOUN', 'NUM', '.']\n"
     ]
    }
   ],
   "source": [
    "# Look at the data\n",
    "print(\"First Sentence:\\n\")\n",
    "print(X[0])\n",
    "print(\"\\nIt's Tags:\\n\")\n",
    "print(Y[0])"
   ]
  },
  {
   "cell_type": "markdown",
   "metadata": {},
   "source": [
    "#### Some information about the data:"
   ]
  },
  {
   "cell_type": "code",
   "execution_count": 41,
   "metadata": {},
   "outputs": [],
   "source": [
    "num_words = len(set([word.lower() for sentence in X for word in sentence]))\n",
    "tags = set([word.lower() for sentence in Y for word in sentence])\n",
    "num_tags = len(tags)"
   ]
  },
  {
   "cell_type": "code",
   "execution_count": 42,
   "metadata": {},
   "outputs": [
    {
     "name": "stdout",
     "output_type": "stream",
     "text": [
      "59448\n",
      "12\n",
      "{'adp', 'noun', 'x', 'adv', 'pron', '.', 'det', 'prt', 'conj', 'verb', 'adj', 'num'}\n"
     ]
    }
   ],
   "source": [
    "print(num_words)\n",
    "print(num_tags)\n",
    "print(tags)"
   ]
  },
  {
   "cell_type": "markdown",
   "metadata": {},
   "source": [
    "#### Tags: Conjunction, Punctuation, Numeral, Adverb, Verb, Noun, Pronoun, Adjective, Participle, Determiner, X(Other), Adposition"
   ]
  },
  {
   "cell_type": "code",
   "execution_count": 43,
   "metadata": {},
   "outputs": [],
   "source": [
    "tagdict = {\n",
    "    \"conj\": \"Conjunction\",\n",
    "    \".\": \"Punctuation\",\n",
    "    \"propn\": \"Proper Noun\",\n",
    "    \"num\": \"Numeral\",\n",
    "    \"adv\": \"Adverb\",\n",
    "    \"verb\": \"Verb\",\n",
    "    \"noun\": \"Noun\",\n",
    "    \"pron\": \"Pronoun\",\n",
    "    \"adj\": \"Adjective\",\n",
    "    \"part\": \"Participle\",\n",
    "    \"det\": \"Determiner\",\n",
    "    \"x\": \"Other\",\n",
    "    \"adp\": \"Adposition\",\n",
    "}"
   ]
  },
  {
   "cell_type": "markdown",
   "metadata": {},
   "source": [
    "______________________________\n",
    "## Prepare the Data"
   ]
  },
  {
   "cell_type": "code",
   "execution_count": 44,
   "metadata": {},
   "outputs": [],
   "source": [
    "import numpy as np\n",
    "import tensorflow as tf\n",
    "import tensorflow.keras as keras\n",
    "from keras.preprocessing.text import Tokenizer\n",
    "from keras.preprocessing.sequence import pad_sequences\n",
    "from keras.utils.np_utils import to_categorical\n",
    "from gensim.models import KeyedVectors\n",
    "from sklearn.model_selection import train_test_split"
   ]
  },
  {
   "cell_type": "markdown",
   "metadata": {},
   "source": [
    "#### Tokenize and pad each sentence and it's tags:"
   ]
  },
  {
   "cell_type": "code",
   "execution_count": 45,
   "metadata": {},
   "outputs": [],
   "source": [
    "# encode X\n",
    "word_tokenizer = Tokenizer()              # instantiate tokeniser\n",
    "word_tokenizer.fit_on_texts(X)            # fit tokeniser on data\n",
    "\n",
    "# use the tokenizer to encode input sentence sequence\n",
    "X_encoded = word_tokenizer.texts_to_sequences(X)  \n",
    "\n",
    "# encode Y\n",
    "tag_tokenizer = Tokenizer()\n",
    "tag_tokenizer.fit_on_texts(Y)\n",
    "\n",
    "# use the tokenizer to encode input tag sequence\n",
    "Y_encoded = tag_tokenizer.texts_to_sequences(Y)"
   ]
  },
  {
   "cell_type": "code",
   "execution_count": 72,
   "metadata": {},
   "outputs": [],
   "source": [
    "# save the tokenizers for use in our demo\n",
    "import io\n",
    "import json\n",
    "wtokenizer_json = word_tokenizer.to_json()\n",
    "ttokenizer_json = tag_tokenizer.to_json()\n",
    "with io.open('wtokenizer.json', 'w', encoding='utf-8') as f:\n",
    "    f.write(json.dumps(wtokenizer_json, ensure_ascii=False))\n",
    "with io.open('ttokenizer.json', 'w', encoding='utf-8') as f:\n",
    "    f.write(json.dumps(ttokenizer_json, ensure_ascii=False))"
   ]
  },
  {
   "cell_type": "code",
   "execution_count": 46,
   "metadata": {},
   "outputs": [],
   "source": [
    "# sequences greater than 50 in length will be truncated\n",
    "MAX_SEQ_LENGTH = 50\n",
    "X_padded = pad_sequences(X_encoded, maxlen=MAX_SEQ_LENGTH, padding='pre', truncating='post')\n",
    "Y_padded = pad_sequences(Y_encoded, maxlen=MAX_SEQ_LENGTH, padding='pre', truncating='post')"
   ]
  },
  {
   "cell_type": "markdown",
   "metadata": {},
   "source": [
    "#### Split Data into Training and Testing Data"
   ]
  },
  {
   "cell_type": "code",
   "execution_count": 47,
   "metadata": {},
   "outputs": [],
   "source": [
    "X_train, X_test, Y_train, Y_test = train_test_split(X_padded, Y_padded, test_size=0.15, random_state=4)"
   ]
  },
  {
   "cell_type": "markdown",
   "metadata": {},
   "source": [
    "#### Create an Embedding Matrix using Word2Vec:"
   ]
  },
  {
   "cell_type": "code",
   "execution_count": 12,
   "metadata": {},
   "outputs": [
    {
     "name": "stdout",
     "output_type": "stream",
     "text": [
      "[================================================--] 97.6% 1623.0/1662.8MB downloaded"
     ]
    },
    {
     "name": "stderr",
     "output_type": "stream",
     "text": [
      "IOPub message rate exceeded.\n",
      "The notebook server will temporarily stop sending output\n",
      "to the client in order to avoid crashing it.\n",
      "To change this limit, set the config variable\n",
      "`--NotebookApp.iopub_msg_rate_limit`.\n",
      "\n",
      "Current values:\n",
      "NotebookApp.iopub_msg_rate_limit=1000.0 (msgs/sec)\n",
      "NotebookApp.rate_limit_window=3.0 (secs)\n",
      "\n"
     ]
    },
    {
     "name": "stdout",
     "output_type": "stream",
     "text": [
      "[==================================================] 100.0% 1662.8/1662.8MB downloaded\n"
     ]
    }
   ],
   "source": [
    "import gensim.downloader\n",
    "glove_vectors = gensim.downloader.load('word2vec-google-news-300')"
   ]
  },
  {
   "cell_type": "code",
   "execution_count": 48,
   "metadata": {},
   "outputs": [],
   "source": [
    "from gensim.models import KeyedVectors\n",
    "\n",
    "# word2vec\n",
    "path = \"gensim-data1/word2vec-google-news-300/word2vec-google-news-300.gz\"\n",
    "\n",
    "# load word2vec using the following function present in the gensim library\n",
    "word2vec = KeyedVectors.load_word2vec_format(path, binary=True)\n",
    "\n",
    "# assign word vectors from word2vec model\n",
    "# each word in word2vec model is represented using a 300 dimensional vector\n",
    "EMBEDDING_SIZE = 300\n",
    "VOCABULARY_SIZE = len(word_tokenizer.word_index) + 1\n",
    "\n",
    "# create an empty embedding matix\n",
    "embedding_weights = np.zeros((VOCABULARY_SIZE, EMBEDDING_SIZE))\n",
    "\n",
    "# create a word to index dictionary mapping\n",
    "word2id = word_tokenizer.word_index\n",
    "\n",
    "# copy vectors from word2vec model to the words present in corpus\n",
    "for word, index in word2id.items():\n",
    "    try:\n",
    "        embedding_weights[index, :] = word2vec[word]\n",
    "    except KeyError:\n",
    "        pass"
   ]
  },
  {
   "cell_type": "markdown",
   "metadata": {},
   "source": [
    "#### One-hot encode Y:"
   ]
  },
  {
   "cell_type": "code",
   "execution_count": 49,
   "metadata": {},
   "outputs": [],
   "source": [
    "# use Keras' to_categorical function to one-hot encode Y\n",
    "Y_train = to_categorical(Y_train)\n",
    "Y_test = to_categorical(Y_test)"
   ]
  },
  {
   "cell_type": "markdown",
   "metadata": {},
   "source": [
    "#### Data Shapes:"
   ]
  },
  {
   "cell_type": "code",
   "execution_count": 50,
   "metadata": {},
   "outputs": [
    {
     "name": "stdout",
     "output_type": "stream",
     "text": [
      "Training shapes:\n",
      "\n",
      "(61371, 50)\n",
      "(61371, 50, 13)\n",
      "\n",
      "Testing Shapes:\n",
      "\n",
      "(10831, 50)\n",
      "(10831, 50, 13)\n"
     ]
    }
   ],
   "source": [
    "print(\"Training shapes:\\n\")\n",
    "print(X_train.shape)\n",
    "print(Y_train.shape)\n",
    "print(\"\\nTesting Shapes:\\n\")\n",
    "print(X_test.shape)\n",
    "print(Y_test.shape)"
   ]
  },
  {
   "cell_type": "markdown",
   "metadata": {},
   "source": [
    "___________________________\n",
    "## Build the Model"
   ]
  },
  {
   "cell_type": "code",
   "execution_count": 51,
   "metadata": {},
   "outputs": [],
   "source": [
    "from keras.models import Model\n",
    "from keras.models import Sequential\n",
    "from keras import layers\n",
    "from tensorflow.keras import backend as K"
   ]
  },
  {
   "cell_type": "markdown",
   "metadata": {},
   "source": [
    "#### Function to ignore the accuracy of paddings:\n",
    "##### From: https://nlpforhackers.io/lstm-pos-tagger-keras/ "
   ]
  },
  {
   "cell_type": "code",
   "execution_count": 59,
   "metadata": {},
   "outputs": [],
   "source": [
    "def accuracy_masked(y_true, y_pred):\n",
    "    y_true_class = K.argmax(y_true, axis=-1)\n",
    "    y_pred_class = K.argmax(y_pred, axis=-1)\n",
    "\n",
    "    ignore_mask = K.cast(K.not_equal(y_true_class, 0), 'int32')\n",
    "    matches = K.cast(K.equal(y_true_class, y_pred_class), 'int32') * ignore_mask\n",
    "    accuracy = K.sum(matches) / K.maximum(K.sum(ignore_mask), 1)\n",
    "    return accuracy"
   ]
  },
  {
   "cell_type": "markdown",
   "metadata": {},
   "source": [
    "#### Sequential Convolution Network:"
   ]
  },
  {
   "cell_type": "code",
   "execution_count": 63,
   "metadata": {},
   "outputs": [
    {
     "name": "stdout",
     "output_type": "stream",
     "text": [
      "Model: \"sequential_4\"\n",
      "_________________________________________________________________\n",
      "Layer (type)                 Output Shape              Param #   \n",
      "=================================================================\n",
      "embedding_4 (Embedding)      (None, 50, 300)           17834700  \n",
      "_________________________________________________________________\n",
      "conv1d_4 (Conv1D)            (None, 50, 128)           76928     \n",
      "_________________________________________________________________\n",
      "max_pooling1d_4 (MaxPooling1 (None, 50, 128)           0         \n",
      "_________________________________________________________________\n",
      "dropout_12 (Dropout)         (None, 50, 128)           0         \n",
      "_________________________________________________________________\n",
      "dense_12 (Dense)             (None, 50, 128)           16512     \n",
      "_________________________________________________________________\n",
      "dropout_13 (Dropout)         (None, 50, 128)           0         \n",
      "_________________________________________________________________\n",
      "dense_13 (Dense)             (None, 50, 128)           16512     \n",
      "_________________________________________________________________\n",
      "dropout_14 (Dropout)         (None, 50, 128)           0         \n",
      "_________________________________________________________________\n",
      "dense_14 (Dense)             (None, 50, 13)            1677      \n",
      "=================================================================\n",
      "Total params: 17,946,329\n",
      "Trainable params: 17,946,329\n",
      "Non-trainable params: 0\n",
      "_________________________________________________________________\n"
     ]
    }
   ],
   "source": [
    "model = Sequential()\n",
    "model.add(layers.Embedding(input_dim   = VOCABULARY_SIZE,         # vocabulary size - number of unique words in data\n",
    "                         output_dim    = EMBEDDING_SIZE,          # length of vector with which each word is represented\n",
    "                         input_length  = MAX_SEQ_LENGTH,          # length of input sequence\n",
    "                         weights       = [embedding_weights],     # word embedding matrix\n",
    "                         trainable     = True                     # True - update embeddings_weight matrix\n",
    "))\n",
    "model.add(layers.Conv1D(128, kernel_size=2, padding='same', activation='relu'))\n",
    "model.add(layers.MaxPooling1D(pool_size=1, strides=1, padding='same'))\n",
    "model.add(keras.layers.Dropout(0.25))\n",
    "model.add(keras.layers.Dense(128, activation='relu'))\n",
    "model.add(keras.layers.Dropout(0.5))\n",
    "model.add(keras.layers.Dense(128, activation='relu'))\n",
    "model.add(keras.layers.Dropout(0.5))\n",
    "model.add(keras.layers.Dense(13, activation='softmax'))\n",
    "model.compile(loss=keras.losses.CategoricalCrossentropy(),\n",
    " optimizer=keras.optimizers.Adam(),\n",
    " metrics=[keras.metrics.CategoricalAccuracy(), accuracy_masked])\n",
    "model.summary()"
   ]
  },
  {
   "cell_type": "code",
   "execution_count": 64,
   "metadata": {},
   "outputs": [
    {
     "data": {
      "image/png": "[encoded data removed]",
      "text/plain": [
       "<IPython.core.display.Image object>"
      ]
     },
     "execution_count": 64,
     "metadata": {},
     "output_type": "execute_result"
    }
   ],
   "source": [
    "keras.utils.plot_model(model, to_file='model.png', show_shapes=True)"
   ]
  },
  {
   "cell_type": "markdown",
   "metadata": {},
   "source": [
    "__________________________\n",
    "## Train the Model"
   ]
  },
  {
   "cell_type": "code",
   "execution_count": 65,
   "metadata": {},
   "outputs": [
    {
     "name": "stdout",
     "output_type": "stream",
     "text": [
      "Epoch 1/10\n",
      "384/384 [==============================] - 118s 308ms/step - loss: 0.2872 - categorical_accuracy: 0.9258 - accuracy_masked: 0.8366 - val_loss: 0.0528 - val_categorical_accuracy: 0.9833 - val_accuracy_masked: 0.9598\n",
      "Epoch 2/10\n",
      "384/384 [==============================] - 117s 305ms/step - loss: 0.0534 - categorical_accuracy: 0.9843 - accuracy_masked: 0.9623 - val_loss: 0.0485 - val_categorical_accuracy: 0.9846 - val_accuracy_masked: 0.9628\n",
      "Epoch 3/10\n",
      "384/384 [==============================] - 118s 307ms/step - loss: 0.0419 - categorical_accuracy: 0.9872 - accuracy_masked: 0.9692 - val_loss: 0.0475 - val_categorical_accuracy: 0.9851 - val_accuracy_masked: 0.9642\n",
      "Epoch 4/10\n",
      "384/384 [==============================] - 117s 304ms/step - loss: 0.0368 - categorical_accuracy: 0.9885 - accuracy_masked: 0.9724 - val_loss: 0.0481 - val_categorical_accuracy: 0.9851 - val_accuracy_masked: 0.9641\n",
      "Epoch 5/10\n",
      "384/384 [==============================] - 118s 307ms/step - loss: 0.0336 - categorical_accuracy: 0.9894 - accuracy_masked: 0.9744 - val_loss: 0.0486 - val_categorical_accuracy: 0.9852 - val_accuracy_masked: 0.9644\n",
      "Epoch 6/10\n",
      "384/384 [==============================] - 115s 299ms/step - loss: 0.0313 - categorical_accuracy: 0.9899 - accuracy_masked: 0.9758 - val_loss: 0.0500 - val_categorical_accuracy: 0.9855 - val_accuracy_masked: 0.9650\n",
      "Epoch 7/10\n",
      "384/384 [==============================] - 115s 299ms/step - loss: 0.0297 - categorical_accuracy: 0.9903 - accuracy_masked: 0.9766 - val_loss: 0.0502 - val_categorical_accuracy: 0.9853 - val_accuracy_masked: 0.9646\n",
      "Epoch 8/10\n",
      "384/384 [==============================] - 115s 299ms/step - loss: 0.0283 - categorical_accuracy: 0.9906 - accuracy_masked: 0.9774 - val_loss: 0.0510 - val_categorical_accuracy: 0.9854 - val_accuracy_masked: 0.9649\n",
      "Epoch 9/10\n",
      "384/384 [==============================] - 116s 301ms/step - loss: 0.0271 - categorical_accuracy: 0.9909 - accuracy_masked: 0.9782 - val_loss: 0.0526 - val_categorical_accuracy: 0.9856 - val_accuracy_masked: 0.9652\n",
      "Epoch 10/10\n",
      "384/384 [==============================] - 116s 303ms/step - loss: 0.0262 - categorical_accuracy: 0.9912 - accuracy_masked: 0.9788 - val_loss: 0.0526 - val_categorical_accuracy: 0.9854 - val_accuracy_masked: 0.9649\n"
     ]
    }
   ],
   "source": [
    "history = model.fit(X_train, Y_train,\n",
    "                    epochs=10,\n",
    "                    validation_split = 0.2,\n",
    "                    batch_size=128)"
   ]
  },
  {
   "cell_type": "code",
   "execution_count": 66,
   "metadata": {},
   "outputs": [
    {
     "name": "stdout",
     "output_type": "stream",
     "text": [
      "WARNING:tensorflow:From /opt/conda/lib/python3.8/site-packages/tensorflow/python/training/tracking/tracking.py:111: Model.state_updates (from tensorflow.python.keras.engine.training) is deprecated and will be removed in a future version.\n",
      "Instructions for updating:\n",
      "This property should not be used in TensorFlow 2.0, as updates are applied automatically.\n",
      "WARNING:tensorflow:From /opt/conda/lib/python3.8/site-packages/tensorflow/python/training/tracking/tracking.py:111: Layer.updates (from tensorflow.python.keras.engine.base_layer) is deprecated and will be removed in a future version.\n",
      "Instructions for updating:\n",
      "This property should not be used in TensorFlow 2.0, as updates are applied automatically.\n",
      "INFO:tensorflow:Assets written to: englishModel/assets\n"
     ]
    }
   ],
   "source": [
    "tf.keras.models.save_model(\n",
    "    model, \"englishModel\", overwrite=True, include_optimizer=True, save_format='tf',\n",
    "    signatures=None, options=None)"
   ]
  },
  {
   "cell_type": "markdown",
   "metadata": {},
   "source": [
    "_____________________________\n",
    "## Results:"
   ]
  },
  {
   "cell_type": "code",
   "execution_count": 34,
   "metadata": {},
   "outputs": [],
   "source": [
    "import matplotlib.pyplot as plt\n",
    "%matplotlib inline"
   ]
  },
  {
   "cell_type": "code",
   "execution_count": 35,
   "metadata": {},
   "outputs": [
    {
     "name": "stdout",
     "output_type": "stream",
     "text": [
      "339/339 [==============================] - 3s 8ms/step - loss: 0.0630 - categorical_accuracy: 0.9857 - accuracy_masked: 0.9654\n",
      "Loss: 0.06298849731683731\n",
      "Accuracy: 0.9856929183006287\n",
      "Masked Accuracy:  0.9653927683830261\n"
     ]
    }
   ],
   "source": [
    "# Evaluate the final performance of the network\n",
    "score = model.evaluate(X_test,Y_test,verbose=1)\n",
    "print(\"Loss:\",score[0])\n",
    "print(\"Accuracy:\",score[1])\n",
    "print(\"Masked Accuracy: \", score[2])"
   ]
  },
  {
   "cell_type": "code",
   "execution_count": 73,
   "metadata": {},
   "outputs": [
    {
     "data": {
      "image/png": "[encoded data removed]",
      "text/plain": [
       "<Figure size 432x288 with 2 Axes>"
      ]
     },
     "metadata": {
      "needs_background": "light"
     },
     "output_type": "display_data"
    }
   ],
   "source": [
    "plt.figure(1) \n",
    "\n",
    "# summarize history for accuracy\n",
    "\n",
    "plt.subplot(211)\n",
    "plt.plot(history.history['categorical_accuracy'])\n",
    "plt.plot(history.history['val_categorical_accuracy'])\n",
    "plt.title('model accuracy')\n",
    "plt.ylabel('accuracy')\n",
    "plt.xlabel('epoch')\n",
    "plt.legend(['train', 'val'], loc='upper left')\n",
    "\n",
    "# summarize history for loss\n",
    "\n",
    "plt.subplot(212)\n",
    "plt.plot(history.history['loss'])\n",
    "plt.plot(history.history['val_loss'])\n",
    "plt.title('model loss')\n",
    "plt.ylabel('loss')\n",
    "plt.xlabel('epoch')\n",
    "plt.legend(['train', 'val'], loc='upper left')\n",
    "plt.tight_layout()\n",
    "plt.show() "
   ]
  },
  {
   "cell_type": "code",
   "execution_count": 74,
   "metadata": {},
   "outputs": [
    {
     "data": {
      "text/plain": [
       "<matplotlib.legend.Legend at 0x7f06b00524c0>"
      ]
     },
     "execution_count": 74,
     "metadata": {},
     "output_type": "execute_result"
    },
    {
     "data": {
      "image/png": "[encoded data removed]",
      "text/plain": [
       "<Figure size 432x288 with 1 Axes>"
      ]
     },
     "metadata": {
      "needs_background": "light"
     },
     "output_type": "display_data"
    }
   ],
   "source": [
    "plt.figure(1) \n",
    "\n",
    "# summarize history for masked accuracy\n",
    "\n",
    "plt.subplot(211)\n",
    "plt.plot(history.history['accuracy_masked'])\n",
    "plt.plot(history.history['val_accuracy_masked'])\n",
    "plt.title('model accuracy')\n",
    "plt.ylabel('accuracy')\n",
    "plt.xlabel('epoch')\n",
    "plt.legend(['train', 'val'], loc='upper left')"
   ]
  },
  {
   "cell_type": "markdown",
   "metadata": {},
   "source": [
    "_____________________________________________\n",
    "## Demo"
   ]
  },
  {
   "cell_type": "code",
   "execution_count": 76,
   "metadata": {},
   "outputs": [
    {
     "name": "stdout",
     "output_type": "stream",
     "text": [
      "      Sentence= [['The', 'red', 'cat', 'took', 'a', 'very', 'long', 'walk', 'along', 'the', 'winding', 'river', '.']]\n",
      "Predicted Tags= ['Determiner', 'Adjective', 'Noun', 'Verb', 'Determiner', 'Adverb', 'Adjective', 'Verb', 'Adposition', 'Determiner', 'Verb', 'Noun', 'Punctuation']\n"
     ]
    }
   ],
   "source": [
    "from nltk.tokenize import word_tokenize\n",
    "\n",
    "def output_prediction(text):\n",
    "    # Pre-process data like we did for training.\n",
    "    text = [word_tokenize(text)]\n",
    "    text_encoded = word_tokenizer.texts_to_sequences(text) \n",
    "    text_padded = pad_sequences(text_encoded, maxlen=MAX_SEQ_LENGTH, padding='pre', truncating='post')\n",
    "    \n",
    "    # Make a prediction\n",
    "    ynew = np.argmax(model.predict(text_padded), axis=-1)\n",
    "    prediction = ynew[0]\n",
    "    \n",
    "    # Trim leading zeros\n",
    "    prediction = np.trim_zeros(prediction)\n",
    "        \n",
    "    # Decode prediction\n",
    "    decoded = tag_tokenizer.sequences_to_texts([prediction])\n",
    "    decoded = word_tokenize(decoded[0])\n",
    "    decoded = [tagdict[tag] for tag in decoded]\n",
    "    \n",
    "    # show the inputs and predicted outputs\n",
    "    print(\"      Sentence= %s\\nPredicted Tags= %s\" % (text, decoded))\n",
    "\n",
    "# Type your own sentence in place of the one below!\n",
    "text = \"The red cat took a very long walk along the winding river.\"\n",
    "output_prediction(text)"
   ]
  },
  {
   "cell_type": "markdown",
   "metadata": {},
   "source": [
    "__________________________________________________________________\n",
    "Data Pre-Processing Inspired By: https://towardsdatascience.com/pos-tagging-using-rnn-7f08a522f849,\n",
    "https://www.nltk.org/nltk_data/,\n",
    "https://www.nltk.org/\n",
    "Model Inspired By: https://medium.com/saarthi-ai/sentence-classification-using-convolutional-neural-networks-ddad72c7048c\n",
    "Masked Accuracy Class Inspired By: https://nlpforhackers.io/lstm-pos-tagger-keras/\n",
    "Word Embeddings: https://www.tensorflow.org/tutorials/text/word2vec"
   ]
  }
 ],
 "metadata": {
  "kernelspec": {
   "display_name": "Python 3",
   "language": "python",
   "name": "python3"
  },
  "language_info": {
   "codemirror_mode": {
    "name": "ipython",
    "version": 3
   },
   "file_extension": ".py",
   "mimetype": "text/x-python",
   "name": "python",
   "nbconvert_exporter": "python",
   "pygments_lexer": "ipython3",
   "version": "3.8.6"
  }
 },
 "nbformat": 4,
 "nbformat_minor": 4
}
