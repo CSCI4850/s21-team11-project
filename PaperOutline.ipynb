{
 "cells": [
  {
   "cell_type": "markdown",
   "metadata": {},
   "source": [
    "## Project Paper"
   ]
  },
  {
   "cell_type": "markdown",
   "metadata": {},
   "source": [
    "### Introduction and Background"
   ]
  },
  {
   "cell_type": "markdown",
   "metadata": {},
   "source": [
    "Instructions: \"The Introduction and Background section should focus on developing the overall motivation for the project, reference related work on similar problems or that has used similar approaches, and indicates where your project provides some additional insight into neural network technologies. Be sure to clearly state your key aim(s) at the end of this section.\""
   ]
  },
  {
   "cell_type": "markdown",
   "metadata": {},
   "source": [
    "###  Methods"
   ]
  },
  {
   "cell_type": "markdown",
   "metadata": {},
   "source": [
    "Instructions: \"The Methods section should focus on the mathemetical, theoretical, and practical execution of your project by introducing and referencing the employed technologies, data sets, statistics, and visualization techniques used in the project and why they are being used to address your domain or problem of interest. Algorithmic, mathematical, and step-based descriptions may be presented, but you should generally provide no code in the Methods section.\""
   ]
  },
  {
   "cell_type": "markdown",
   "metadata": {},
   "source": [
    "### Results"
   ]
  },
  {
   "cell_type": "markdown",
   "metadata": {},
   "source": [
    "Instructions: \"The Results section should provide the results generated using the employed methods including figures, graphics, data tables, statistics, etc. This section should also contain ample text that walks the reader through the key findings from your study, and uses the previous aids to support the main text. Take little for granted in the Results section, so that a reader can follow your logic and understand your results by using text that explains how the various figures, tables, etc. provide evidence for your conclusions.\""
   ]
  },
  {
   "cell_type": "markdown",
   "metadata": {},
   "source": [
    "### Discussion and Conclusion"
   ]
  },
  {
   "cell_type": "markdown",
   "metadata": {},
   "source": [
    "Instructions: \" The Discussion and Conclusion section should revisit your main insights gained from your project and how these fit into the ideas presented in the Introduction and Background section. Be sure to explain how your project has provided some additional insight into the specific idea mentioned at the end of this section. Also, feel free to provide some examples of new directions and ideas where your would like to see this work unfold in the future.\""
   ]
  },
  {
   "cell_type": "markdown",
   "metadata": {},
   "source": [
    "### Abstract"
   ]
  },
  {
   "cell_type": "markdown",
   "metadata": {},
   "source": [
    "Instructions: \"the Abstract should be written last, and should be no more then 250 words that takes the key ideas from each section of the paper and composes them together. That is, you should mirror your abstract after the sections of the paper. You will only be able to write one (or maybe two) sentences that summarizes each section. The most common mistake is to leave out the key results or findings from your project out of the abstract: don't do that!\""
   ]
  },
  {
   "cell_type": "markdown",
   "metadata": {},
   "source": [
    "### Citations"
   ]
  },
  {
   "cell_type": "markdown",
   "metadata": {},
   "source": [
    "You will need to cite information properly for this assignment, and follow the paper template provided in class to construct your paper."
   ]
  }
 ],
 "metadata": {
  "kernelspec": {
   "display_name": "Python 3",
   "language": "python",
   "name": "python3"
  },
  "language_info": {
   "codemirror_mode": {
    "name": "ipython",
    "version": 3
   },
   "file_extension": ".py",
   "mimetype": "text/x-python",
   "name": "python",
   "nbconvert_exporter": "python",
   "pygments_lexer": "ipython3",
   "version": "3.8.6"
  }
 },
 "nbformat": 4,
 "nbformat_minor": 4
}
