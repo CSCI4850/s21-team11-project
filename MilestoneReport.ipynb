{
 "cells": [
  {
   "cell_type": "markdown",
   "metadata": {},
   "source": [
    "## Milestone Report - March 22"
   ]
  },
  {
   "cell_type": "markdown",
   "metadata": {},
   "source": [
    "Johnathan Bevers, Bailie Delpire, Marie McCord, Foram Patel, Tristan Stuart"
   ]
  },
  {
   "cell_type": "markdown",
   "metadata": {},
   "source": [
    "### Progress:"
   ]
  },
  {
   "cell_type": "markdown",
   "metadata": {},
   "source": [
    "Deliverable |Percent Complete |Estimated Completion Date | Percent Complete by Next Milestone\n",
    "------------|-----------------|--------------------------|-----------------------------------\n",
    "Code|10%|Apr 14|25%\n",
    "Paper|10%|Apr 21|20%\n",
    "Demo|5%|May 1|10%\n",
    "Presentation|0%|May 3|0%"
   ]
  },
  {
   "cell_type": "markdown",
   "metadata": {},
   "source": [
    "### 1. What deliverable goals established in the last milestone report were accomplished to the anticipated percentage?"
   ]
  },
  {
   "cell_type": "markdown",
   "metadata": {},
   "source": [
    "With the combination of our proposal, our paper outline template, and the ideas we have culminated thus far, we believe we are about 10% into our paper, as anticipated. Additionally, we have found a method for running new sentences into a trained network, giving us about 5% of our demo."
   ]
  },
  {
   "cell_type": "markdown",
   "metadata": {},
   "source": [
    "### 2. What deliverable goals established in the last milestone report were were not accomplished to the anticipated percentage?"
   ]
  },
  {
   "cell_type": "markdown",
   "metadata": {},
   "source": [
    "We only completed about 10% of our written code, though we did find some additional resources, corpora, and tools to use. We anticipate that our progress in coding will pick up this week as we further understand the problem, the data, and the tools we may use."
   ]
  },
  {
   "cell_type": "markdown",
   "metadata": {},
   "source": [
    "### 3. What are the main deliverable goals to meet before the next milestone report, and who is working on them?"
   ]
  },
  {
   "cell_type": "markdown",
   "metadata": {},
   "source": [
    "Our main deliverable goals to meet before the next report are:\n",
    "1. Code - Processing the corpora\n",
    "2. Code - Making decisions on the model we want to build\n",
    "3. Paper - Writing the Introduction and Background section\n",
    "4. Paper - Writing a rough outline for the Methods section\n",
    "\n",
    "Tristan: code - work on pre-processing data and building a model.\n",
    "\n",
    "Marie: code - work on pre-processing data and building a model.\n",
    "\n",
    "Bailie: code - find testing data and work on demo methods. \n",
    "\n",
    "Johnathan: paper - write the introduction and background section. Add any used resources to the resources section.\n",
    "\n",
    "Foram: paper - write the methods section. Add any used resources to the resources section.\n",
    "\n",
    "Everyone: code - do more research on models we may use to contribute to our group discussion on how to build our model."
   ]
  },
  {
   "cell_type": "markdown",
   "metadata": {},
   "source": [
    "______________________________________"
   ]
  },
  {
   "cell_type": "markdown",
   "metadata": {},
   "source": [
    "## Milestone Report - March 15"
   ]
  },
  {
   "cell_type": "markdown",
   "metadata": {},
   "source": [
    "### Progress:"
   ]
  },
  {
   "cell_type": "markdown",
   "metadata": {},
   "source": [
    "Deliverable |Percent Complete |Estimated Completion Date | Percent Complete by Next Milestone\n",
    "------------|-----------------|--------------------------|-----------------------------------\n",
    "Code|5%|Apr 14|20%\n",
    "Paper|5%|Apr 21|10%\n",
    "Demo|0%|May 1|5%\n",
    "Presentation|0%|May 3|0%"
   ]
  },
  {
   "cell_type": "markdown",
   "metadata": {},
   "source": [
    "### 1. What deliverable goals established in the last milestone report were accomplished to the anticipated percentage?"
   ]
  },
  {
   "cell_type": "markdown",
   "metadata": {},
   "source": [
    "Up to this first milestone report, we have successfully pushed our project proposal to the GitHub and have begun to find code examples and scientific papers to pull inspiration from. Each of us has looked over some code examples and run through one or two tutorials to gain an understanding of what exactly Part-of-Speech tagging does, methods for accomplishing the task, and which tools can be used."
   ]
  },
  {
   "cell_type": "markdown",
   "metadata": {},
   "source": [
    "### 2. What deliverable goals established in the last milestone report were were not accomplished to the anticipated percentage?"
   ]
  },
  {
   "cell_type": "markdown",
   "metadata": {},
   "source": [
    "We have not officially begun writing our own code or paper, beginning these will be our priority this week."
   ]
  },
  {
   "cell_type": "markdown",
   "metadata": {},
   "source": [
    "### 3. What are the main deliverable goals to meet before the next milestone report, and who is working on them?"
   ]
  },
  {
   "cell_type": "markdown",
   "metadata": {},
   "source": [
    "Our main deliverable goals to meet before the next milestone report are getting a good foundation for our code (about 20%) and getting our paper started."
   ]
  },
  {
   "cell_type": "markdown",
   "metadata": {},
   "source": [
    "Bailie: gain a solid understanding of POS-tagging code examples and tutorials and attempt a successful run at my own POS-tagger. Find more resources for our paper/create a rough outline.\n",
    "\n",
    "Foram: primarily research our tool kit, which python libraries/modules/functions we can make use of in our project. Secondarily gain a solid understanding of POS-tagging code examples and tutorials and attempt a successful run at my own POS-tagger.\n",
    "\n",
    "Johnathan: primarily research our data set, find corpus to use for training, validation, and testing. Secondarily gain a solid understanding of POS-tagging code examples and tutorials and attempt a successful run at my own POS-tagger.\n",
    "\n",
    "Marie: primarily research our data set, find corpus to use for training, validation, and testing. Secondarily gain a solid understanding of POS-tagging code examples and tutorials and attempt a successful run at my own POS-tagger.\n",
    "\n",
    "Tristan: gain a solid understanding of POS-tagging code examples and tutorials and attempt a successful run at my own POS-tagger."
   ]
  }
 ],
 "metadata": {
  "kernelspec": {
   "display_name": "Python 3",
   "language": "python",
   "name": "python3"
  },
  "language_info": {
   "codemirror_mode": {
    "name": "ipython",
    "version": 3
   },
   "file_extension": ".py",
   "mimetype": "text/x-python",
   "name": "python",
   "nbconvert_exporter": "python",
   "pygments_lexer": "ipython3",
   "version": "3.8.6"
  }
 },
 "nbformat": 4,
 "nbformat_minor": 4
}
