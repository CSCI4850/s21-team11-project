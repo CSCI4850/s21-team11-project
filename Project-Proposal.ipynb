{
 "cells": [
  {
   "cell_type": "markdown",
   "id": "written-transsexual",
   "metadata": {},
   "source": [
    "# PROBLEM 1"
   ]
  },
  {
   "cell_type": "markdown",
   "id": "dependent-cover",
   "metadata": {},
   "source": [
    "The aim of the project is to create a POS (Parts of Speech) tagger for text corpus. For example, if I ran through the sentence “I am alive” and tagged the POS, we would be left with the following format: “Pronoun Verb Adjective.” The POS is meant to be basic at first to allow the group to get a handle on basic grammar for better testing in the future. If the project were to get more ambitious, the group would expand the network to handle more complicated POS such as verb types, objects, infinitives, etc. The success will hopefully culminate in something that can assist with analysis of sentence structures and syntax. This application can be useful for linguists as well as people trying to learn a new language. Although this neural net will learn english, we hope it can extend to other languages depending on how ambitious this becomes."
   ]
  },
  {
   "cell_type": "markdown",
   "id": "infinite-scott",
   "metadata": {},
   "source": [
    "# PROBLEM 2"
   ]
  },
  {
   "cell_type": "markdown",
   "id": "ambient-uzbekistan",
   "metadata": {},
   "source": [
    "Coding the ability to decipher a word’s POS based on syntax would be extremely difficult. So teaching a neural net to decipher POS is more desirable than having to write a case for every possible syntax/sentence structure. For example, being able to differentiate the noun store from the verb store would be a huge pain to code. Neural networks are able to absorb context and differentiate certain words that way. In short, neural nets just make life easier.\n",
    "\n",
    "The specific structure of the neural network is only partially clear at the moment. What is clear is the use of a multi-layer network, we will have to wait and see how many hidden layers we will need. This net will also be categorical in nature, which implies the use of all tools and functions that are categorical. Categorical also implies the use of the softmax function for the output layer. The hidden layer function is unclear but we suspect it might be ReLU.\n",
    "\n",
    "In short the direction is clear and the application is murky. Said application will only become clear with time, more research, and attempts at application. "
   ]
  },
  {
   "cell_type": "markdown",
   "id": "supposed-commercial",
   "metadata": {},
   "source": [
    "# PROBLEM 3"
   ]
  },
  {
   "cell_type": "markdown",
   "id": "widespread-concord",
   "metadata": {},
   "source": [
    "We will be collecting a collection of written text known as a corpus to use as input. We have not yet selected these texts for the collection. Perhaps old literature which has great linguistic importance to the English language will be used as a data set. As long as it is a long, comprehensible English text, it is liable to become part of a vast and extensive data set."
   ]
  },
  {
   "cell_type": "markdown",
   "id": "conceptual-currency",
   "metadata": {},
   "source": [
    "# PROBLEM 4"
   ]
  },
  {
   "cell_type": "markdown",
   "id": "tutorial-cardiff",
   "metadata": {},
   "source": [
    "To test our neural network we will put it through a series of tests where we feed it a corpus as input for linguistic analysis and determine the percentage of correctly identified POS and the overall accuracy rate and loss of the network.\n",
    "\n",
    "Said testing will be quite simple. We will feed the network a simple sentence and if it cannot correctly decipher the POS in the sentence, then the neural network needs more time/data to learn. The success or failure of the project absolutely hinges on the test cases succeeding. If they do not succeed, then another approach than the one suggested above will be in order. "
   ]
  },
  {
   "cell_type": "code",
   "execution_count": null,
   "id": "domestic-parish",
   "metadata": {},
   "outputs": [],
   "source": []
  }
 ],
 "metadata": {
  "kernelspec": {
   "display_name": "Python 3",
   "language": "python",
   "name": "python3"
  },
  "language_info": {
   "codemirror_mode": {
    "name": "ipython",
    "version": 3
   },
   "file_extension": ".py",
   "mimetype": "text/x-python",
   "name": "python",
   "nbconvert_exporter": "python",
   "pygments_lexer": "ipython3",
   "version": "3.8.6"
  },
  "toc-showcode": true,
  "toc-showmarkdowntxt": false,
  "toc-showtags": false
 },
 "nbformat": 4,
 "nbformat_minor": 5
}
