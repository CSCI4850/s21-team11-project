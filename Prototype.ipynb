{
 "cells": [
  {
   "cell_type": "code",
   "execution_count": 3,
   "id": "first-carry",
   "metadata": {},
   "outputs": [],
   "source": [
    "import numpy as np\n",
    "import nltk\n",
    "#Additional modules???\n",
    "\n",
    "# Download Corpus\n",
    "# obtain tagged sentence(s)"
   ]
  },
  {
   "cell_type": "code",
   "execution_count": 4,
   "id": "tender-economics",
   "metadata": {},
   "outputs": [],
   "source": [
    "# Split into training data ie validation and training"
   ]
  },
  {
   "cell_type": "code",
   "execution_count": 5,
   "id": "premier-elder",
   "metadata": {},
   "outputs": [],
   "source": [
    "# compute features of a sentence???"
   ]
  },
  {
   "cell_type": "code",
   "execution_count": 6,
   "id": "broke-drain",
   "metadata": {},
   "outputs": [],
   "source": [
    "# Remove tags from sentences and recycle them for training data?"
   ]
  },
  {
   "cell_type": "code",
   "execution_count": 7,
   "id": "adequate-letters",
   "metadata": {},
   "outputs": [],
   "source": [
    "# Form training data sets x, y ..."
   ]
  },
  {
   "cell_type": "code",
   "execution_count": 8,
   "id": "israeli-beast",
   "metadata": {},
   "outputs": [],
   "source": [
    "# create classes to classify words???"
   ]
  },
  {
   "cell_type": "code",
   "execution_count": 10,
   "id": "grave-google",
   "metadata": {},
   "outputs": [],
   "source": [
    "# Our model here\n",
    "#{\n",
    "#       What goes here???\n",
    "#\n",
    "#       Multilayer, at least one hidden layer\n",
    "#       Activation function TBD\n",
    "#       Output Activation TBD\n",
    "#       compile model with categorical_cross_entropy, \n",
    "#       optimizer and metrics TBD\n",
    "#}"
   ]
  },
  {
   "cell_type": "code",
   "execution_count": 11,
   "id": "sized-drilling",
   "metadata": {},
   "outputs": [],
   "source": [
    "# Model training here\n",
    "# Wrapper for model???"
   ]
  },
  {
   "cell_type": "code",
   "execution_count": 12,
   "id": "continuous-circus",
   "metadata": {},
   "outputs": [],
   "source": [
    "# Make graph or display history of training here"
   ]
  },
  {
   "cell_type": "code",
   "execution_count": 13,
   "id": "oriented-power",
   "metadata": {},
   "outputs": [],
   "source": [
    "# Evaluate performance"
   ]
  },
  {
   "cell_type": "code",
   "execution_count": null,
   "id": "missing-lawyer",
   "metadata": {},
   "outputs": [],
   "source": []
  }
 ],
 "metadata": {
  "kernelspec": {
   "display_name": "Python 3",
   "language": "python",
   "name": "python3"
  },
  "language_info": {
   "codemirror_mode": {
    "name": "ipython",
    "version": 3
   },
   "file_extension": ".py",
   "mimetype": "text/x-python",
   "name": "python",
   "nbconvert_exporter": "python",
   "pygments_lexer": "ipython3",
   "version": "3.8.6"
  }
 },
 "nbformat": 4,
 "nbformat_minor": 5
}
