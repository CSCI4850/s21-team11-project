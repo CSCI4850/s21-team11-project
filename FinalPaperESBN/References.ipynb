{
 "cells": [
  {
   "cell_type": "raw",
   "metadata": {},
   "source": [
    "@misc{b1,\n",
    "title={POS Tagging Using RNN},\n",
    "url={https://www.kaggle.com/tanyadayanand/pos-tagging-using-rnn/execution},\n",
    "journal={Kaggle},\n",
    "publisher={Kaggle},\n",
    "author={Tanyadayanand},\n",
    "year={2020},\n",
    "month={Sep}\n",
    "}"
   ]
  },
  {
   "cell_type": "raw",
   "metadata": {},
   "source": [
    "@misc{b2,\n",
    "url={https://universaldependencies.org/},\n",
    "journal={Universal Dependencies}\n",
    "}"
   ]
  },
  {
   "cell_type": "raw",
   "metadata": {},
   "source": [
    "@misc{b3,\n",
    "url={https://medium.com/@datamonsters/artificial-neural-networks-for-natural-language-processing-part-1-64ca9ebfa3b2},\n",
    "journal={Medium}\n",
    "}"
   ]
  },
  {
   "cell_type": "raw",
   "metadata": {},
   "source": [
    "@misc{b4,\n",
    "url={https://medium.com/saarthi-ai/sentence-classification-using-convolutional-neural-networks-ddad72c7048c},\n",
    "journal={Medium}\n",
    "}"
   ]
  },
  {
   "cell_type": "raw",
   "metadata": {},
   "source": [
    "@article{b5,\n",
    "  title={Accessing text corpora and lexical resources},\n",
    "  author={Bird, S and Klein, E and Loper, E},\n",
    "  journal={Natural Language Processing with Python},\n",
    "  year={2009},\n",
    "  publisher={O’Reilly Media, Inc.}\n",
    "}"
   ]
  },
  {
   "cell_type": "raw",
   "metadata": {},
   "source": [
    "@inproceedings{b6,\n",
    "    title = {Convolutional Neural Networks for Sentence Classification},\n",
    "    author = {Kim, Yoon},\n",
    "    booktitle = {Proceedings of the 2014 Conference on Empirical Methods in Natural Language Processing ({EMNLP})},\n",
    "    month = {October},\n",
    "    year = {2014},\n",
    "    address = {Doha, Qatar},\n",
    "    publisher = {Association for Computational Linguistics},\n",
    "    url = {https://www.aclweb.org/anthology/D14-1181},\n",
    "    doi = {10.3115/v1/D14-1181},\n",
    "    pages = {1746--1751}\n",
    "}"
   ]
  },
  {
   "cell_type": "raw",
   "metadata": {},
   "source": [
    "@article{b7,\n",
    "  author = {L\\^e D{\\~u}ng Trang and Bernard Teissier},\n",
    "   title = {Vari\\'et\\'es polaires locales et classes de {C}hern des vari\\'et\\'es singuli\\`eres},\n",
    " journal = {Ann. of Math.},\n",
    "  volume = {114},\n",
    "    year = {1981},\n",
    "   pages = {457--491}\n",
    "}   "
   ]
  },
  {
   "cell_type": "raw",
   "metadata": {},
   "source": [
    "@article{b8,\n",
    "  title={Text understanding from scratch},\n",
    "  author={Zhang, Xiang and LeCun, Yann},\n",
    "  journal={arXiv preprint arXiv:1502.01710},\n",
    "  year={2015}\n",
    "}"
   ]
  },
  {
   "cell_type": "raw",
   "metadata": {},
   "source": [
    "@inproceedings{b9,\n",
    "    title = {Semantic Parsing via Staged Query Graph Generation: Question Answering with Knowledge Base},\n",
    "    author = {Yih, Wen-tau and Chang, Ming-Wei and He, Xiaodong and Gao, Jianfeng},\n",
    "    booktitle = \"Proceedings of the 53rd Annual Meeting of the Association for Computational Linguistics and the 7th International Joint Conference on Natural Language Processing (Volume 1: Long Papers)},\n",
    "    month = {July},\n",
    "    year = {2015},\n",
    "    address = {Beijing, China},\n",
    "    publisher = {Association for Computational Linguistics},\n",
    "    url = {https://www.aclweb.org/anthology/P15-1128},\n",
    "    doi = {10.3115/v1/P15-1128\",\n",
    "    pages = {1321--1331}\n",
    "}"
   ]
  },
  {
   "cell_type": "raw",
   "metadata": {},
   "source": [
    "@inproceedings{b10,\n",
    "  title={Detecting semantically equivalent questions in online user forums},\n",
    "  author={Bogdanova, Dasha and dos Santos, Cicero and Barbosa, Luciano and Zadrozny, Bianca},\n",
    "  booktitle={Proceedings of the Nineteenth Conference on Computational Natural Language Learning},\n",
    "  pages={123--131},\n",
    "  year={2015}\n",
    "}"
   ]
  },
  {
   "cell_type": "raw",
   "metadata": {},
   "source": [
    "@article{b11,\n",
    "  title={Convolutional neural networks for speech recognition},\n",
    "  author={Abdel-Hamid, Ossama and Mohamed, Abdel-rahman and Jiang, Hui and Deng, Li and Penn, Gerald and Yu, Dong},\n",
    "  journal={IEEE/ACM Transactions on audio, speech, and language processing},\n",
    "  volume={22},\n",
    "  number={10},\n",
    "  pages={1533--1545},\n",
    "  year={2014},\n",
    "  publisher={IEEE}\n",
    "}"
   ]
  },
  {
   "cell_type": "raw",
   "metadata": {},
   "source": [
    "@article{b12,\n",
    "  title={A sensitivity analysis of (and practitioners' guide to) convolutional neural networks for sentence classification},\n",
    "  author={Zhang, Ye and Wallace, Byron},\n",
    "  journal={arXiv preprint arXiv:1510.03820},\n",
    "  year={2015}\n",
    "}"
   ]
  },
  {
   "cell_type": "raw",
   "metadata": {},
   "source": [
    "@misc{b13,\n",
    "    title={Gensim: topic modelling for humans},\n",
    "    url=\"https://radimrehurek.com/gensim/auto\\_examples/tutorials/run\\_word2vec.html\\#sphx-glr-auto-examples-tutorials-run-word2vec-py\",\n",
    "    journal={Word2Vec Model-gensim},\n",
    "    year={2021},\n",
    "    month={March}\n",
    "}"
   ]
  },
  {
   "cell_type": "raw",
   "metadata": {},
   "source": [
    "@misc{b14,\n",
    "    url={https://www.nltk.org/howto/corpus.html\\#tagged-corpora},\n",
    "    journal={Corpus Readers}\n",
    "}"
   ]
  },
  {
   "cell_type": "raw",
   "metadata": {},
   "source": [
    "@misc{b15,\n",
    "    title={Hidden Layer},\n",
    "    url={https://deepai.org/machine-learning-glossary-and-terms/hidden-layer-machine-learning#:\\~:text=In neural networks,a hidden,inputs entered into the network},\n",
    "    journal={DeepAI},\n",
    "    publisher={DeepAI},\n",
    "    author={DeepAI},\n",
    "    year={2019},\n",
    "    month={May}\n",
    "}"
   ]
  },
  {
   "cell_type": "raw",
   "metadata": {},
   "source": [
    "@misc{b16,\n",
    "    url = {https://nlpforhackers.io/lstm-pos-tagger-keras/}\n",
    "}"
   ]
  },
  {
   "cell_type": "raw",
   "metadata": {},
   "source": [
    "@misc{b17,\n",
    "    url = \"https://www.tensorflow.org/tutorials/text/word2vec\"\n",
    "}"
   ]
  },
  {
   "cell_type": "raw",
   "metadata": {},
   "source": [
    "@misc{b18,\n",
    "    url = \"https://www.nltk.org/nltk\\_data\"\n",
    "}"
   ]
  },
  {
   "cell_type": "raw",
   "metadata": {},
   "source": [
    "@misc{b19,\n",
    "    url = {https://universaldependencies.org/}\n",
    "}"
   ]
  }
 ],
 "metadata": {
  "kernelspec": {
   "display_name": "Python 3",
   "language": "python",
   "name": "python3"
  },
  "language_info": {
   "codemirror_mode": {
    "name": "ipython",
    "version": 3
   },
   "file_extension": ".py",
   "mimetype": "text/x-python",
   "name": "python",
   "nbconvert_exporter": "python",
   "pygments_lexer": "ipython3",
   "version": "3.8.6"
  }
 },
 "nbformat": 4,
 "nbformat_minor": 4
}
